{
 "cells": [
  {
   "cell_type": "code",
   "execution_count": 1,
   "metadata": {},
   "outputs": [],
   "source": [
    "import pandas as pd\n",
    "import numpy as np\n",
    "import matplotlib.pyplot as plt\n",
    "from IPython.core.pylabtools import figsize\n",
    "import seaborn as sns\n",
    "from sklearn.model_selection import train_test_split"
   ]
  },
  {
   "cell_type": "code",
   "execution_count": 2,
   "metadata": {},
   "outputs": [],
   "source": [
    "df = pd.read_csv(r'D:\\SAI1JN\\dat2.csv',low_memory=False, sep = ';')"
   ]
  },
  {
   "cell_type": "code",
   "execution_count": 3,
   "metadata": {},
   "outputs": [],
   "source": [
    "#df.head()"
   ]
  },
  {
   "cell_type": "code",
   "execution_count": 4,
   "metadata": {},
   "outputs": [
    {
     "name": "stdout",
     "output_type": "stream",
     "text": [
      "(34355, 60)\n"
     ]
    }
   ],
   "source": [
    "#df.info()\n",
    "features = df.dropna(axis=1, how = 'all')\n",
    "print(features.shape)"
   ]
  },
  {
   "cell_type": "code",
   "execution_count": 5,
   "metadata": {},
   "outputs": [
    {
     "name": "stdout",
     "output_type": "stream",
     "text": [
      "(27216, 59)\n"
     ]
    }
   ],
   "source": [
    "column = []\n",
    "for adr in df['Address 1 (self-reported)']:\n",
    "    adr = adr[adr.find(\" \"):len(adr)+1]\n",
    "    column.append(adr)\n",
    "df[\"Address 1 (self-reported)\"] = column\n",
    "df = df[df['Year Built'] > 1922]\n",
    "df = df.replace({'nan': np.nan})\n",
    "df = df.replace({' Not found ': np.nan})\n",
    "\n",
    "for col in list(df.columns):\n",
    "    if ('ft²' in col or 'kBtu' in col or 'Metric Tons CO2e' in col or 'kWh' in col or 'therms' in col or 'gal' in col or 'Score' in col):\n",
    "        df[col] = df[col].astype(float)\n",
    "df = df.dropna(axis=1, how = 'all')\n",
    "\n",
    "print(df.shape)"
   ]
  },
  {
   "cell_type": "code",
   "execution_count": 6,
   "metadata": {},
   "outputs": [],
   "source": [
    "df[df==np.inf]=np.nan\n",
    "df.fillna(df.mean(), inplace=True)"
   ]
  },
  {
   "cell_type": "code",
   "execution_count": 7,
   "metadata": {},
   "outputs": [],
   "source": [
    "categorical_subset = df[['Borough', 'Largest Property Use Type']]\n",
    "categorical_subset = pd.get_dummies(categorical_subset)\n",
    "#print(categorical_subset)"
   ]
  },
  {
   "cell_type": "code",
   "execution_count": 8,
   "metadata": {},
   "outputs": [],
   "source": [
    "for col in list(df.columns):\n",
    "    if ('ft²' in col or 'kBtu' in col or 'Metric Tons CO2e' in col or 'kWh' in col or 'therms' in col or 'gal' in col or 'Score' in col):\n",
    "        df[col] = df[col].astype(int)\n",
    "df = df.dropna(axis=1, how = 'all')\n",
    "target = df[['Source EUI (kBtu/ft²)','Site EUI (kBtu/ft²)','Self-Reported Gross Floor Area (ft²)','Largest Property Use Type - Gross Floor Area (ft²)','Year Built']]\n",
    "target = pd.concat([target, categorical_subset], axis = 1)\n",
    "#print(target)"
   ]
  },
  {
   "cell_type": "code",
   "execution_count": 9,
   "metadata": {},
   "outputs": [],
   "source": [
    "X_train, X_test, y_train, y_test = train_test_split(target, df['ENERGY STAR Score'], random_state=0)\n",
    "#print(X_train)"
   ]
  },
  {
   "cell_type": "code",
   "execution_count": 10,
   "metadata": {},
   "outputs": [
    {
     "name": "stdout",
     "output_type": "stream",
     "text": [
      "Правильность на тестовом наборе: 0.44\n"
     ]
    }
   ],
   "source": [
    "#df = df.reset_index()\n",
    "from sklearn.neighbors import KNeighborsClassifier\n",
    "knn = KNeighborsClassifier(n_neighbors = 1)\n",
    "knn.fit(X_train, y_train)\n",
    "y_pred = knn.predict(X_test)\n",
    "#print(\"Прогнозы для тестового набора:\\n{}\".format(y_pred))\n",
    "#print(\"Правильность на тестовом наборе: {:.2f}\".format(np.mean(y_pred == y_test)))\n",
    "print(\"Правильность на тестовом наборе: {:.2f}\".format(knn.score(X_test, y_test)))"
   ]
  },
  {
   "cell_type": "code",
   "execution_count": 11,
   "metadata": {},
   "outputs": [
    {
     "name": "stdout",
     "output_type": "stream",
     "text": [
      "Правильность на тестовом наборе: 0.44\n"
     ]
    }
   ],
   "source": [
    "clf = KNeighborsClassifier(n_neighbors = 1)\n",
    "clf.fit(X_train, y_train)\n",
    "#print(\"Прогнозы на тестовом наборе: {}\".format(clf.predict(X_test)))\n",
    "print(\"Правильность на тестовом наборе: {:.2f}\".format(clf.score(X_test, y_test)))"
   ]
  }
 ],
 "metadata": {
  "kernelspec": {
   "display_name": "Python 3",
   "language": "python",
   "name": "python3"
  },
  "language_info": {
   "codemirror_mode": {
    "name": "ipython",
    "version": 3
   },
   "file_extension": ".py",
   "mimetype": "text/x-python",
   "name": "python",
   "nbconvert_exporter": "python",
   "pygments_lexer": "ipython3",
   "version": "3.8.5"
  }
 },
 "nbformat": 4,
 "nbformat_minor": 4
}
