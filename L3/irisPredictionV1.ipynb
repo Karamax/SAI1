{
 "cells": [
  {
   "cell_type": "code",
   "execution_count": 12,
   "metadata": {},
   "outputs": [],
   "source": [
    "#!/usr/bin/env python\n",
    "# coding: utf-8\n",
    "\n",
    "from sklearn.datasets import load_iris\n",
    "from sklearn.model_selection import train_test_split\n",
    "import mglearn\n",
    "import pandas as pd\n",
    "import numpy as np"
   ]
  },
  {
   "cell_type": "code",
   "execution_count": 13,
   "metadata": {},
   "outputs": [],
   "source": [
    "def prediction(unicSize, measuringBorders):  # Конкретное измерение и зона класификации\n",
    "    unicPredict = [0, 0, 0]  # Измерения относится Blue Red Green\n",
    "    if unicSize[measuringBorders[2]] < measuringBorders[0]:\n",
    "        unicPredict[0] += 1\n",
    "\n",
    "    if unicSize[measuringBorders[2]] > measuringBorders[0] and unicSize[measuringBorders[2]] < measuringBorders[1]:\n",
    "        unicPredict[1] += 1\n",
    "\n",
    "    if unicSize[measuringBorders[2]] > measuringBorders[1]:\n",
    "        unicPredict[2] += 1\n",
    "\n",
    "    return unicPredict"
   ]
  },
  {
   "cell_type": "code",
   "execution_count": 14,
   "metadata": {},
   "outputs": [],
   "source": [
    "iris_dataset = load_iris()\n",
    "\n",
    "X_train, X_test, y_train, y_test = train_test_split(\n",
    " iris_dataset['data'], iris_dataset['target'], random_state=0)"
   ]
  },
  {
   "cell_type": "code",
   "execution_count": 15,
   "metadata": {},
   "outputs": [],
   "source": [
    "measuringBorders = [  # Граница деления и категория\n",

    "    [2, 4.80, 2]\n",
    "]"
   ]
  },
  {
   "cell_type": "code",
   "execution_count": 16,
   "metadata": {},
   "outputs": [
    {
     "name": "stdout",
     "output_type": "stream",
     "text": [
      "97.36842105263158 %\n"
     ]
    }
   ],
   "source": [
    "successResult = 0\n",
    "for lm in range(len(X_test)):  # Проход по тестовым данным\n",
    "    d = [0, 0, 0]\n",
    "    for i in measuringBorders:  # Проход по значащим зонам\n",
    "        res = prediction(X_test[lm], i)\n",
    "        d = [d[0] + res[0], d[1] + res[1], d[2] + res[2]]\n",
    "\n",
    "    if d.index(max(d)) == y_test[lm]:  # Определение правильности предсказания\n",
    "        successResult += 1\n",
    "\n",
    "print(str(successResult / len(X_test) * 100) + \" %\")"
   ]
  }
 ],
 "metadata": {
  "kernelspec": {
   "display_name": "Python 3",
   "language": "python",
   "name": "python3"
  },
  "language_info": {
   "codemirror_mode": {
    "name": "ipython",
    "version": 3
   },
   "file_extension": ".py",
   "mimetype": "text/x-python",
   "name": "python",
   "nbconvert_exporter": "python",
   "pygments_lexer": "ipython3",
   "version": "3.8.5"
  }
 },
 "nbformat": 4,
 "nbformat_minor": 4
}
